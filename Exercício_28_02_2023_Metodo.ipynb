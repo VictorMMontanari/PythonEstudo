{
  "nbformat": 4,
  "nbformat_minor": 0,
  "metadata": {
    "colab": {
      "provenance": [],
      "authorship_tag": "ABX9TyODp21h1CxHdkQeIyDY+xF+",
      "include_colab_link": true
    },
    "kernelspec": {
      "name": "python3",
      "display_name": "Python 3"
    },
    "language_info": {
      "name": "python"
    }
  },
  "cells": [
    {
      "cell_type": "markdown",
      "metadata": {
        "id": "view-in-github",
        "colab_type": "text"
      },
      "source": [
        "<a href=\"https://colab.research.google.com/github/VictorMMontanari/PythonEstudo/blob/main/Exerc%C3%ADcio_28_02_2023_Metodo.ipynb\" target=\"_parent\"><img src=\"https://colab.research.google.com/assets/colab-badge.svg\" alt=\"Open In Colab\"/></a>"
      ]
    },
    {
      "cell_type": "code",
      "execution_count": null,
      "metadata": {
        "id": "IT_x6YyqwK0q"
      },
      "outputs": [],
      "source": [
        "# 8 Escreva um método Python para encontrar o indice de um item \n",
        "def encontrar_indice(lista, item):\n",
        "  indice = lista.index(item)\n",
        "  return indice\n",
        "lista = ['Fulano', 'Fulana', 'DeTal', 'Ihechikara', 'Fulano', 'Fulana', 'DeTal', 'Ihechikara']\n",
        "print(encontrar_indice(lista, 'Fulana'))\n",
        "\n",
        "def encontrar_indice(lista, item):\n",
        "  try:\n",
        "    indice = lista.index(item)\n",
        "  except ValueError:\n",
        "    indice = -1\n",
        "  return indice\n",
        "\n",
        "encontrar_indice([1,2,4],4)"
      ]
    },
    {
      "cell_type": "code",
      "source": [
        "# 9 Escreva um método Python para encontrar um indice do ultimo elemento da lista\n",
        "def ultimo_indice(lista):\n",
        "  indice = lista.index(lista[-1])\n",
        "  return indice\n",
        "lista = ['Fulano', 'Fulana', 'DeTal', 'Ihechikar', 'Fulano', 'Fulana', 'DeTal', 'Ihechikara']\n",
        "print(ultimo_indice(lista))\n",
        "\n",
        "def encontrar_ultimo_elemento (lista):\n",
        "  ultimo_elemento = lista[-1]\n",
        "  ultimo_indice = lista.index(ultimo_elemento)\n",
        "  return ultimo_indice\n",
        "\n",
        "encontrar_ultimo_elemento([1,2,4])"
      ],
      "metadata": {
        "id": "rfM0P1CowNfe"
      },
      "execution_count": null,
      "outputs": []
    },
    {
      "cell_type": "code",
      "source": [
        "# 10 Escreva um método Python para somar elementos de sublistas e armazenar o resultado em uma lista ordenada de forma decrescente.\n",
        "def somar_sublistas(lista):\n",
        "    somas = []\n",
        "    for sublist in lista:\n",
        "        soma = sum(sublist)\n",
        "        somas.append(soma)\n",
        "    somas.sort(reverse=True)\n",
        "    \n",
        "    return somas\n",
        "\n",
        "lista = [[1, 2, 3], [4, 5], [6, 7, 8, 9]] \n",
        "print(somar_sublistas(lista))"
      ],
      "metadata": {
        "id": "xALccUu5wP5t"
      },
      "execution_count": null,
      "outputs": []
    },
    {
      "cell_type": "code",
      "source": [
        "def somar_sublistas_e_ordenar(lista_de_listas):\n",
        "    soma_de_cada_sublista = [[sum(sublista)] for sublista in lista_de_listas]\n",
        "    lista_ordenada = sorted(soma_de_cada_sublista, reverse=True)\n",
        "    return lista_ordenada\n",
        "\n",
        "lista = [[1, 2, 3], [4, 5], [6, 7, 8, 9]]\n",
        "lista_de_somas_ordenada = somar_sublistas_e_ordenar(lista)\n",
        "lista_de_somas_ordenada.reverse()\n",
        "print(lista_de_somas_ordenada)"
      ],
      "metadata": {
        "id": "Op5eJzbswS_d",
        "colab": {
          "base_uri": "https://localhost:8080/"
        },
        "outputId": "cbef4084-b6d7-4cc6-b20d-f4f42a262503"
      },
      "execution_count": null,
      "outputs": [
        {
          "output_type": "stream",
          "name": "stdout",
          "text": [
            "[[6], [9], [30]]\n"
          ]
        }
      ]
    }
  ]
}