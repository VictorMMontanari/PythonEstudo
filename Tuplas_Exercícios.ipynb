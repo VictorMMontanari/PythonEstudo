{
  "nbformat": 4,
  "nbformat_minor": 0,
  "metadata": {
    "colab": {
      "provenance": [],
      "authorship_tag": "ABX9TyMOYFMBFrnKmSqdCQQ9G0Vs",
      "include_colab_link": true
    },
    "kernelspec": {
      "name": "python3",
      "display_name": "Python 3"
    },
    "language_info": {
      "name": "python"
    }
  },
  "cells": [
    {
      "cell_type": "markdown",
      "metadata": {
        "id": "view-in-github",
        "colab_type": "text"
      },
      "source": [
        "<a href=\"https://colab.research.google.com/github/VictorMMontanari/PythonEstudo/blob/main/Tuplas_Exerc%C3%ADcios.ipynb\" target=\"_parent\"><img src=\"https://colab.research.google.com/assets/colab-badge.svg\" alt=\"Open In Colab\"/></a>"
      ]
    },
    {
      "cell_type": "code",
      "execution_count": null,
      "metadata": {
        "id": "H2ebPfdUc-Lo"
      },
      "outputs": [],
      "source": [
        "#1. Crie uma tupla com o nome de 4 países e imprima na tela o terceiro país da tupla\n",
        "tuple = (\"Brasil\",\"Alemanha\",\"Índia\",\"Austrália\")\n",
        "print(tuple[2])"
      ]
    },
    {
      "cell_type": "code",
      "source": [
        "#2. Crie uma tupla com 3 valores inteiros e calcule a média dos valores. Em seguida, imprima a média na\n",
        "# tela.\n",
        "tuple = (3, 4, 5)\n",
        "print(sum(tuple) / len(tuple))"
      ],
      "metadata": {
        "id": "KQiWVxPwdzJW"
      },
      "execution_count": null,
      "outputs": []
    },
    {
      "cell_type": "code",
      "source": [
        "# 3. Crie duas tuplas com 5 elementos cada e verifique se elas têm o mesmo tamanho.\n",
        "tupla1 = (10, 20, 30, 40, 50)\n",
        "tupla2 = (2, 4, 6, 8, 10)\n",
        "\n",
        "if len(tupla1) == len(tupla2):\n",
        "    print(\"As tuplas têm o mesmo tamanho\")\n",
        "else:\n",
        "    print(\"As tuplas têm tamanhos diferentes\")\n"
      ],
      "metadata": {
        "id": "Ei9ZHAucfDgd"
      },
      "execution_count": null,
      "outputs": []
    },
    {
      "cell_type": "code",
      "source": [
        "# 4. Crie uma tupla com o nome de 5 animais e crie uma nova tupla com os mesmos animais, mas em\n",
        "# ordem reversa. Em seguida, imprima a nova tupla na tela.\n",
        "animais = ('gato', 'cachorro', 'leão', 'tigre', 'elefante')\n",
        "animais_reverso = tuple(reversed(animais))\n",
        "print(animais_reverso)"
      ],
      "metadata": {
        "id": "DcdZx5d5SngO"
      },
      "execution_count": null,
      "outputs": []
    },
    {
      "cell_type": "code",
      "source": [
        "# 5. Crie uma tupla com 3 valores inteiros e imprima na tela o menor valor da tupla.\n",
        "inteiro=(5,4,3)\n",
        "menor_valor= min(inteiro)\n",
        "print(menor_valor)"
      ],
      "metadata": {
        "id": "cBuM3so_WSif"
      },
      "execution_count": null,
      "outputs": []
    },
    {
      "cell_type": "code",
      "source": [
        "# 6. Crie uma tupla com o nome de 4 disciplinas escolares e adicione uma nova disciplina à tupla. Em\n",
        "# seguida, imprima a nova tupla na tela.\n",
        "\n",
        "disciplinas = ('Matemática', 'Português', 'Ciências', 'História')\n",
        "nova_disciplina = disciplinas + ('Geografia',)\n",
        "print(nova_disciplina)\n"
      ],
      "metadata": {
        "id": "9NewAsJ_XtKQ"
      },
      "execution_count": null,
      "outputs": []
    },
    {
      "cell_type": "code",
      "source": [
        "# 7. Crie uma tupla com os valores 1, 2, 3, 4 e 5 e verifique se o valor 6 está na tupla.\n",
        "numeros = (1,2,3,4,5)\n",
        "\n",
        "if 6 in numeros:\n",
        "    print(\"O valor 6 foi encontrado na Tupla\")\n",
        "else:\n",
        "    print(\"O valor 6 não foi encontrado na Tupla\")\n",
        "  "
      ],
      "metadata": {
        "id": "Bv9gkIiRZ-fg",
        "colab": {
          "base_uri": "https://localhost:8080/",
          "height": 0
        },
        "outputId": "50c4daf3-06ea-4416-b0a9-760b1da1c4c8"
      },
      "execution_count": 42,
      "outputs": [
        {
          "output_type": "stream",
          "name": "stdout",
          "text": [
            "O valor 6 não foi encontrado na Tupla\n"
          ]
        }
      ]
    },
    {
      "cell_type": "code",
      "source": [
        "# 8. Crie uma tupla com o nome de 3 cidades e imprima na tela apenas as cidades que começam com a\n",
        "# letra \"S\".\n",
        "cidade = (\"Sumare\",\"Marília\",\"Bauru\")\n",
        "\n",
        "for c in cidade:\n",
        "    if c.startswith(\"S\"):\n",
        "        print(c)"
      ],
      "metadata": {
        "id": "z5sxbSbecRM4"
      },
      "execution_count": null,
      "outputs": []
    },
    {
      "cell_type": "code",
      "source": [
        "# 9. Crie uma tupla com os valores 3, 6, 9 e 12 e divida cada valor por 3. Em seguida, imprima a nova tupla\n",
        "# na tela.\n",
        "valores=(3,6,9,12)\n",
        "valores_dividos=()\n",
        "\n",
        "for i in range (len(valores)):\n",
        "  result=valores[i]//3\n",
        "  print(f\"{valores[i]} / 3 = {result}\")\n",
        "  valores_dividos+=(result,)\n",
        "print(valores_dividos)"
      ],
      "metadata": {
        "id": "jikyaRQUdSto"
      },
      "execution_count": null,
      "outputs": []
    },
    {
      "cell_type": "code",
      "source": [
        "# 10. Crie uma tupla com o nome de 5 frutas e remova a fruta \"abacaxi\" da tupla. Em seguida, imprima a\n",
        "# nova tupla na tela.\n",
        "frutas = (\"banana\", \"maçã\", \"abacate\", \"abacaxi\", \"laranja\")\n",
        "remover_abacaxi = frutas.index(\"abacaxi\")\n",
        "frutas = frutas[:remover_abacaxi]+frutas[remover_abacaxi+1:]\n",
        "print(frutas)\n"
      ],
      "metadata": {
        "id": "sYix-FKgn8Kz"
      },
      "execution_count": null,
      "outputs": []
    }
  ]
}