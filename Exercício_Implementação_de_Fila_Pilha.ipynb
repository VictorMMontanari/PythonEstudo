{
  "nbformat": 4,
  "nbformat_minor": 0,
  "metadata": {
    "colab": {
      "provenance": [],
      "authorship_tag": "ABX9TyOuRTPMWQbjlFVth/p2h9xa",
      "include_colab_link": true
    },
    "kernelspec": {
      "name": "python3",
      "display_name": "Python 3"
    },
    "language_info": {
      "name": "python"
    }
  },
  "cells": [
    {
      "cell_type": "markdown",
      "metadata": {
        "id": "view-in-github",
        "colab_type": "text"
      },
      "source": [
        "<a href=\"https://colab.research.google.com/github/VictorMMontanari/PythonEstudo/blob/main/Exerc%C3%ADcio_Implementa%C3%A7%C3%A3o_de_Fila_Pilha.ipynb\" target=\"_parent\"><img src=\"https://colab.research.google.com/assets/colab-badge.svg\" alt=\"Open In Colab\"/></a>"
      ]
    },
    {
      "cell_type": "code",
      "source": [
        "# 1 - Fila de atendimento telefonico de uma empresa de e-commerce para o pos-venda.\n",
        "from collections import deque\n",
        "\n",
        "class FilaAtendimento:\n",
        "    def __init__(auto):\n",
        "        auto.fila = deque()\n",
        "\n",
        "    def adicionar_cliente(auto, cliente):\n",
        "        auto.fila.append(cliente)\n",
        "\n",
        "    def remover_cliente(auto):\n",
        "        if len(auto.fila) > 0:\n",
        "            return auto.fila.popleft()\n",
        "        else:\n",
        "            return None\n",
        "\n",
        "    def tamanho(auto):\n",
        "        return len(auto.fila)\n",
        "\n",
        "#Objeto para inserir cliente na fila:\n",
        "fila = FilaAtendimento()\n",
        "\n",
        "n_clientes = int(input(\"Quantos clientes deseja adicionar à fila? \"))\n",
        "for i in range(n_clientes):\n",
        "    cliente = input(f\"Informe o nome do cliente {i+1}: \")\n",
        "    fila.adicionar_cliente(cliente)\n",
        "\n",
        "print(\"------------------------------------------------------\")\n",
        "\n",
        "#Retorno do objeto, sendo que nesse meto o primeiro que entrou é o primeiro a ser atendido na fila (FIFO).\n",
        "while fila.tamanho() > 0:\n",
        "    cliente_atendido = fila.remover_cliente()\n",
        "    print(\"Cliente atendido:\", cliente_atendido)\n",
        "    print(\"Tamanho da fila:\", fila.tamanho())"
      ],
      "metadata": {
        "id": "ApEU8BqK0Pj-"
      },
      "execution_count": null,
      "outputs": []
    }
  ]
}