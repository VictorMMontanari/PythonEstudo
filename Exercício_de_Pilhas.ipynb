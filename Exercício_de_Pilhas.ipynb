{
  "nbformat": 4,
  "nbformat_minor": 0,
  "metadata": {
    "colab": {
      "provenance": [],
      "authorship_tag": "ABX9TyNhNojPsIJTdpyfv0mrlo0c",
      "include_colab_link": true
    },
    "kernelspec": {
      "name": "python3",
      "display_name": "Python 3"
    },
    "language_info": {
      "name": "python"
    }
  },
  "cells": [
    {
      "cell_type": "markdown",
      "metadata": {
        "id": "view-in-github",
        "colab_type": "text"
      },
      "source": [
        "<a href=\"https://colab.research.google.com/github/VictorMMontanari/PythonEstudo/blob/main/Exerc%C3%ADcio_de_Pilhas.ipynb\" target=\"_parent\"><img src=\"https://colab.research.google.com/assets/colab-badge.svg\" alt=\"Open In Colab\"/></a>"
      ]
    },
    {
      "cell_type": "code",
      "execution_count": null,
      "metadata": {
        "id": "ztEFtVFGfbK_"
      },
      "outputs": [],
      "source": [
        "#1. Crie uma lista vazia chamada \"pilha\"\n",
        "#2. Adicione o elemento \"10\" à pilha utilizando o método \"append\".\n",
        "#3. Adicione o elemento \"20\" à pilha utilizando o método \"append\".\n",
        "#4. Adicione o elemento \"30\" à pilha utilizando o método \"append\".\n",
        "#5. Imprima a pilha utilizando o comando \"print\".\n",
        "#6. Remova o elemento mais recente da pilha utilizando o método \"pop\"\n",
        "# e armazene-o na variável \"x\".\n",
        "#7. Imprima a variável \"x\".\n",
        "#8. Remova o próximo elemento mais recente da pilha utilizando o\n",
        "# método \"pop\" e armazene-o na variável \"y\".\n",
        "#9. Imprima a variável \"y\".\n",
        "#10. Adicione o elemento \"40\" à pilha utilizando o método \"append\".\n",
        "#11. Imprima a pilha utilizando o comando \"print\".\n",
        "\n",
        "pilha=[]\n",
        "\n",
        "pilha.append(10);\n",
        "pilha.append(20);\n",
        "pilha.append(30);\n",
        "\n",
        "print(pilha);\n",
        "\n",
        "x = pilha.pop()\n",
        "print(x)\n",
        "\n",
        "y = pilha.pop()\n",
        "print(y)\n",
        "\n",
        "pilha.append(40);\n",
        "\n",
        "print(pilha)"
      ]
    }
  ]
}