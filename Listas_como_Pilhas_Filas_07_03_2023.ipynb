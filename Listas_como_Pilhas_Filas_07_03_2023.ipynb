{
  "nbformat": 4,
  "nbformat_minor": 0,
  "metadata": {
    "colab": {
      "provenance": [],
      "authorship_tag": "ABX9TyNRUvVz2ZEtg9PzgwpIywVh",
      "include_colab_link": true
    },
    "kernelspec": {
      "name": "python3",
      "display_name": "Python 3"
    },
    "language_info": {
      "name": "python"
    }
  },
  "cells": [
    {
      "cell_type": "markdown",
      "metadata": {
        "id": "view-in-github",
        "colab_type": "text"
      },
      "source": [
        "<a href=\"https://colab.research.google.com/github/VictorMMontanari/PythonEstudo/blob/main/Listas_como_Pilhas_Filas_07_03_2023.ipynb\" target=\"_parent\"><img src=\"https://colab.research.google.com/assets/colab-badge.svg\" alt=\"Open In Colab\"/></a>"
      ]
    },
    {
      "cell_type": "code",
      "execution_count": null,
      "metadata": {
        "id": "xIrz2plVY3DH"
      },
      "outputs": [],
      "source": [
        "# Pilhas\n",
        "stack=[1,2,3,4,5]\n",
        "\n",
        "#adicionando elementos no topo da pilha\n",
        "\n",
        "stack.append(5)\n",
        "print(stack) # Output: [1,2,3,4,5]\n",
        "stack.append(6)\n",
        "print(stack) # Output: [1,2,3,4,5,6]\n",
        "\n",
        "#removendo elementos do topo da pilha\n",
        "#pop() remove e retorna o novo elemento do topo\n",
        "\n",
        "print(stack.pop()) #Output: 6\n",
        "print(stack.pop()) #Output: 5\n",
        "\n",
        "print(stack) #Output: [1,2,3,4]"
      ]
    },
    {
      "cell_type": "code",
      "source": [
        "#Filas\n",
        "from collections import deque\n",
        "\n",
        "queue=deque([1,2,3])\n",
        "#adicionar elemento no final da fila\n",
        "\n",
        "queue.append(4)\n",
        "print(queue) #Output:deque([1,2,3,4])\n",
        "\n",
        "queue.append(5)\n",
        "print(queue) #Output:deque([1,2,3,4,5])\n",
        "\n",
        "#retornar elementos a partir do começo da fila (first in first out.)\n",
        "print(queue.popleft()) #Output: 1\n",
        "print(queue) #Output: deque([2,3,4,5])"
      ],
      "metadata": {
        "id": "fQ_d6DUncDLM"
      },
      "execution_count": null,
      "outputs": []
    }
  ]
}