{
  "nbformat": 4,
  "nbformat_minor": 0,
  "metadata": {
    "colab": {
      "provenance": [],
      "authorship_tag": "ABX9TyOazevQzbWmTUqyZM8P7bbd",
      "include_colab_link": true
    },
    "kernelspec": {
      "name": "python3",
      "display_name": "Python 3"
    },
    "language_info": {
      "name": "python"
    }
  },
  "cells": [
    {
      "cell_type": "markdown",
      "metadata": {
        "id": "view-in-github",
        "colab_type": "text"
      },
      "source": [
        "<a href=\"https://colab.research.google.com/github/VictorMMontanari/PythonEstudo/blob/main/Swapping_Atribui%C3%A7%C3%A3o_Dupla.ipynb\" target=\"_parent\"><img src=\"https://colab.research.google.com/assets/colab-badge.svg\" alt=\"Open In Colab\"/></a>"
      ]
    },
    {
      "cell_type": "code",
      "execution_count": null,
      "metadata": {
        "id": "ySgtZBHzwWww"
      },
      "outputs": [],
      "source": [
        "x = 19\n",
        "y = 91\n",
        "print('Antes do swapping:')\n",
        "print(f'x = {x}, y = {y}')\n",
        "(x, y) = (y, x)\n",
        "print('Depois do swapping:')\n",
        "print(f'x = {x}, y = {y}')"
      ]
    },
    {
      "cell_type": "code",
      "source": [
        "#Atribuição Dupla\n",
        "def sum_and_avg(x, y, z):\n",
        " s = x + y + z\n",
        " a = s/3\n",
        " return(s, a)\n",
        "\n",
        "(S, A) = sum_and_avg(3, 8, 5)\n",
        "print('Sum =', S)\n",
        "print('Avg =', A)"
      ],
      "metadata": {
        "colab": {
          "base_uri": "https://localhost:8080/"
        },
        "id": "YQBP7tA7wyEG",
        "outputId": "bd722748-eed9-4f69-8829-6eb8c6ac249b"
      },
      "execution_count": 6,
      "outputs": [
        {
          "output_type": "stream",
          "name": "stdout",
          "text": [
            "Sum = 16\n",
            "Avg = 5.333333333333333\n"
          ]
        }
      ]
    }
  ]
}