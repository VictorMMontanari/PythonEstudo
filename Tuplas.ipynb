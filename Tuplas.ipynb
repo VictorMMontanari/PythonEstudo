{
  "nbformat": 4,
  "nbformat_minor": 0,
  "metadata": {
    "colab": {
      "provenance": [],
      "authorship_tag": "ABX9TyPIt/NrbFHFWsPUUze7zj9h",
      "include_colab_link": true
    },
    "kernelspec": {
      "name": "python3",
      "display_name": "Python 3"
    },
    "language_info": {
      "name": "python"
    }
  },
  "cells": [
    {
      "cell_type": "markdown",
      "metadata": {
        "id": "view-in-github",
        "colab_type": "text"
      },
      "source": [
        "<a href=\"https://colab.research.google.com/github/VictorMMontanari/PythonEstudo/blob/main/Tuplas.ipynb\" target=\"_parent\"><img src=\"https://colab.research.google.com/assets/colab-badge.svg\" alt=\"Open In Colab\"/></a>"
      ]
    },
    {
      "cell_type": "code",
      "execution_count": null,
      "metadata": {
        "id": "YqG3v4aSV4yB"
      },
      "outputs": [],
      "source": [
        "tuple= (0,[1,2,3],(4,5,6),7.0)\n",
        "print(f'O primeiro elemento {tuple[0]}')\n",
        "print(f'O último elemento: {tuple[-1]}')\n",
        "print(f'O tipo de dado do segundo elemento: {type(tuple[1])}')\n",
        "print(f'O segundo elemento do terceiro elemento: {tuple[2][1]}')"
      ]
    },
    {
      "cell_type": "code",
      "source": [
        "num_tuple=2,4,5,7,8,10\n",
        "print(num_tuple[:3])\n",
        "print(num_tuple[4:])\n",
        "print(num_tuple[-3:])\n",
        "print(num_tuple[2:5])"
      ],
      "metadata": {
        "id": "3xVJQdj9Z-5h"
      },
      "execution_count": null,
      "outputs": []
    },
    {
      "cell_type": "code",
      "source": [
        "# Tuplas: Zip\n",
        "\n",
        "first_names = ('Simon', 'Sarah','Mehdi', 'Fatime')\n",
        "last_names = ('Sinek', 'Smith', 'Lotfinejad', 'lopes')\n",
        "ages = (49, 55, 39, 33)\n",
        "zipped = zip(first_names, last_names, ages)\n",
        "customers = tuple(zipped)\n",
        "print(zipped)\n",
        "print(customers)\n"
      ],
      "metadata": {
        "id": "ci8ISCO-c3J5"
      },
      "execution_count": null,
      "outputs": []
    },
    {
      "cell_type": "code",
      "source": [
        "import sys\n",
        "a_list = ['abc', 'xyz', 123, 231, 13.31, 0.1312]\n",
        "a_tuple = ('abc', 'xyz', 123, 231, 13.31, 0.1312)\n",
        "print('Tamanho da lista:', sys.getsizeof(a_list), 'bytes')\n",
        "print('Tamanho da tupla:', sys.getsizeof(a_tuple), 'bytes')"
      ],
      "metadata": {
        "colab": {
          "base_uri": "https://localhost:8080/"
        },
        "id": "68Z02xrAr5bW",
        "outputId": "cfacb737-decb-44a3-82a6-94f866c2333f"
      },
      "execution_count": 17,
      "outputs": [
        {
          "output_type": "stream",
          "name": "stdout",
          "text": [
            "Tamanho da lista: 152 bytes\n",
            "Tamanho da tupla: 88 bytes\n"
          ]
        }
      ]
    }
  ]
}